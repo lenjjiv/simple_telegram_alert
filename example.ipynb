{
 "cells": [
  {
   "cell_type": "code",
   "execution_count": null,
   "id": "2fb8e553",
   "metadata": {},
   "outputs": [],
   "source": [
    "from bot import telegram_notification_on_error\n",
    "\n",
    "@telegram_notification_on_error\n",
    "def main():\n",
    "    raise ValueError(\"Тестовая ошибка\")"
   ]
  },
  {
   "cell_type": "code",
   "execution_count": null,
   "id": "1933fb1c",
   "metadata": {},
   "outputs": [],
   "source": [
    "from bot import send_telegram_message\n",
    "send_telegram_message(\"Hello, world!\")"
   ]
  }
 ],
 "metadata": {
  "kernelspec": {
   "display_name": "base",
   "language": "python",
   "name": "python3"
  },
  "language_info": {
   "codemirror_mode": {
    "name": "ipython",
    "version": 3
   },
   "file_extension": ".py",
   "mimetype": "text/x-python",
   "name": "python",
   "nbconvert_exporter": "python",
   "pygments_lexer": "ipython3",
   "version": "3.9.21"
  }
 },
 "nbformat": 4,
 "nbformat_minor": 5
}
